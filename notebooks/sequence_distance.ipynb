{
 "cells": [
  {
   "cell_type": "markdown",
   "metadata": {},
   "source": [
    "# Part I: Basic Bioinformatics\n",
    "- Theory: Sequence Distance (20 min)\n",
    "- Practice: Phylogenetic Tree Construction (30 min)"
   ]
  },
  {
   "cell_type": "markdown",
   "metadata": {},
   "source": [
    "## Edit Distance: Hamming Distance\n",
    "- Edit distance is basic concepts to "
   ]
  },
  {
   "cell_type": "code",
   "execution_count": null,
   "metadata": {
    "vscode": {
     "languageId": "plaintext"
    }
   },
   "outputs": [],
   "source": [
    "from textdistance import hamming"
   ]
  },
  {
   "cell_type": "code",
   "execution_count": null,
   "metadata": {
    "vscode": {
     "languageId": "plaintext"
    }
   },
   "outputs": [],
   "source": [
    "\n",
    "hamming()"
   ]
  },
  {
   "cell_type": "markdown",
   "metadata": {},
   "source": [
    "# Part II: Foundation Model\n",
    "- Theory: Basis of Foundation Model - BERT (20 min)\n",
    "- Practice: Compute Embedding Vectors from Biological Sequence using ESM C (30 min)"
   ]
  },
  {
   "cell_type": "markdown",
   "metadata": {},
   "source": [
    "# Appendix: Prediction of Protein Structure\n",
    "- Theory: Basic Concepts of Generative Model (Voluntary Participation)\n",
    "- Practice: Protein Structure Prediction from AlphaFold Server API (Voluntary Participation)"
   ]
  }
 ],
 "metadata": {
  "language_info": {
   "name": "python"
  }
 },
 "nbformat": 4,
 "nbformat_minor": 2
}
