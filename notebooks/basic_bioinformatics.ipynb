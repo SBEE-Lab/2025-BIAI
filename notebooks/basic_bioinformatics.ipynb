{
 "cells": [
  {
   "cell_type": "markdown",
   "metadata": {},
   "source": [
    "# Part I: Basic Bioinformatics\n",
    "## Theory: 편집 거리 (Sequence Distance)\n",
    "- 목표\n",
    " 1. 편집 거리의 기본 개념 이해\n",
    " 2. 생물 정보학에서 편집 거리의 활용 이해\n",
    " 3. 거리 행렬을 통한 군집화"
   ]
  },
  {
   "cell_type": "markdown",
   "metadata": {},
   "source": [
    "### 1. Edit Distance: Hamming Distance\n",
    "- 우리는 어떻게 서로 다른 두 생물학적 서열 (DNA/RNA/Protein Sequence)을 비교할 수 있을까요?\n",
    "- 지금부터는 단어를 문자열(string)이라 칭하겠습니다. 문자열은 순서가 있는 문자(character)의 나열을 의미합니다.\n",
    "- 간단한 다음의 두 영단어 문자열을 비교하는 예시를 생각해봅시다.\n",
    "    - _strong_ vs. _stone_\n",
    "    - 두 단어는 각각의 순서와 문자 종류를 비교하여 얼마나 유사한지 생각해 볼 수 있습니다.\n",
    "    - 간단한 방법으로는, 각각의 문자를 하나씩 순차적으로 비교해볼 수 있습니다."
   ]
  },
  {
   "cell_type": "code",
   "execution_count": 1,
   "metadata": {},
   "outputs": [
    {
     "data": {
      "text/plain": [
       "2"
      ]
     },
     "execution_count": 1,
     "metadata": {},
     "output_type": "execute_result"
    }
   ],
   "source": [
    "def edit_distance_brute_force(s1, s2):\n",
    "    if not s1: return len(s2)\n",
    "    if not s2: return len(s1)\n",
    "    if s1[0] == s2[0]:\n",
    "        return edit_distance_brute_force(s1[1:], s2[1:])\n",
    "    return 1 + min(\n",
    "        edit_distance_brute_force(s1[1:], s2),    # 삭제\n",
    "        edit_distance_brute_force(s1, s2[1:]),    # 삽입\n",
    "        edit_distance_brute_force(s1[1:], s2[1:]) # 치환\n",
    "    )\n",
    "\n",
    "\n",
    "edit_distance_bf = edit_distance_brute_force(\"strong\", \"stone\")\n",
    "print(\"Edit distance:\", edit_distance_bf)"
   ]
  },
  {
   "cell_type": "markdown",
   "metadata": {},
   "source": [
    "### Dynamic Programming\n",
    "- 위 예제에서는 각각의 문자열을 하나씩 비교하는 방법을 알아보았습니다\n",
    "- 하지만 `strong` 과 `stone` 을 비교할 때, 모든 문자를 하나씩 순차적으로 비교하는 것은 비효율적인 것 같습니다.\n",
    "- 우리는 다음과 같이 표를 만들어 이전에 비교한 문자를 다시 비교할 수 있습니다. \n",
    "\n",
    "![Edit distance compute](./assets/edit_distance_1.png)\n",
    "![Edit distance trajectory](./assets/edit_distance_2.png)"
   ]
  },
  {
   "cell_type": "code",
   "execution_count": 3,
   "metadata": {},
   "outputs": [
    {
     "name": "stdout",
     "output_type": "stream",
     "text": [
      "Edit distance: 2\n",
      "[[0 1 2 3 4 5]\n",
      " [1 0 1 2 3 4]\n",
      " [2 1 0 1 2 3]\n",
      " [3 2 1 1 2 3]\n",
      " [4 3 2 1 2 3]\n",
      " [5 4 3 2 1 2]\n",
      " [6 5 4 3 2 2]]\n"
     ]
    }
   ],
   "source": [
    "import numpy as np\n",
    "\n",
    "def edit_distance_dp(s1, s2):\n",
    "    m, n = len(s1), len(s2)\n",
    "    dp = np.zeros((m+1, n+1), dtype=int)\n",
    "\n",
    "    for i in range(m+1):\n",
    "        for j in range(n+1):\n",
    "            if i == 0:\n",
    "                dp[i][j] = j\n",
    "            elif j == 0:\n",
    "                dp[i][j] = i\n",
    "            elif s1[i-1] == s2[j-1]:\n",
    "                dp[i][j] = dp[i-1][j-1]\n",
    "            else:\n",
    "                dp[i][j] = 1 + min(dp[i-1][j], dp[i][j-1], dp[i-1][j-1])\n",
    "    return dp[m][n], dp\n",
    "\n",
    "dist, table = edit_distance_dp(\"strong\", \"stone\")\n",
    "print(\"Edit distance:\", dist)\n",
    "print(table)"
   ]
  },
  {
   "cell_type": "markdown",
   "metadata": {},
   "source": [
    "### Python Library\n",
    "- Python 에서는 `라이브러리` 를 이용하여 미리 구현된 코드를 간편하게 사용할 수 있습니다.\n",
    "- 위 연산 과정의 코드와 유사한 역할을 하는 코드를 미리 구현하여 함수를 불러와서 사용할 수 있습니다. "
   ]
  },
  {
   "cell_type": "code",
   "execution_count": 3,
   "metadata": {},
   "outputs": [],
   "source": [
    "from textdistance import hamming\n",
    "edit_distance = hamming('stone', 'strong')\n",
    "print(\"Edit distance:\", edit_distance)"
   ]
  },
  {
   "cell_type": "markdown",
   "metadata": {},
   "source": []
  },
  {
   "cell_type": "markdown",
   "metadata": {},
   "source": [
    "# Part II: Foundation Model\n",
    "- Theory: Basis of Foundation Model - BERT (20 min)\n",
    "- Practice: Compute Embedding Vectors from Biological Sequence using ESM C (30 min)"
   ]
  },
  {
   "cell_type": "markdown",
   "metadata": {},
   "source": [
    "# Appendix: Prediction of Protein Structure\n",
    "- Theory: Basic Concepts of Generative Model (Voluntary Participation)\n",
    "- Practice: Protein Structure Prediction from AlphaFold Server API (Voluntary Participation)"
   ]
  }
 ],
 "metadata": {
  "kernelspec": {
   "display_name": "Python 3 (ipykernel)",
   "language": "python",
   "name": "python3"
  },
  "language_info": {
   "codemirror_mode": {
    "name": "ipython",
    "version": 3
   },
   "file_extension": ".py",
   "mimetype": "text/x-python",
   "name": "python",
   "nbconvert_exporter": "python",
   "pygments_lexer": "ipython3",
   "version": "3.12.10"
  }
 },
 "nbformat": 4,
 "nbformat_minor": 4
}
